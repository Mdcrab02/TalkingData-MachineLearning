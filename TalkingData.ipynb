{
 "cells": [
  {
   "cell_type": "code",
   "execution_count": 56,
   "metadata": {
    "collapsed": true
   },
   "outputs": [],
   "source": [
    "#Import pandas and numpy for data manipulation and computation\n",
    "import pandas as pd\n",
    "import numpy as np\n",
    "\n",
    "import matplotlib.pyplot as plt\n",
    "import os\n",
    "\n",
    "#When combined, this dataset becomes quite large, grabbing the compressed sparse row\n",
    "    #matrix function from scipy\n",
    "from scipy.sparse import csr_matrix, hstack\n",
    "\n",
    "#Import the scikit-learn library for modeling\n",
    "from sklearn.preprocessing import LabelEncoder\n",
    "from sklearn.linear_model import LogisticRegression\n",
    "from sklearn.cross_validation import StratifiedKFold\n",
    "from sklearn.metrics import log_loss"
   ]
  },
  {
   "cell_type": "code",
   "execution_count": 57,
   "metadata": {
    "collapsed": false
   },
   "outputs": [],
   "source": [
    "#set the directory for the data, since this notebook is in the root for the conda env, I stashed all\n",
    "    #the data into a directory called Data\n",
    "datadir = 'Data/'\n",
    "\n",
    "#Now read in all the data\n",
    "#First, sniggity snag the data gender_age_train\n",
    "    #and set the index column\n",
    "gatrain = pd.read_csv(os.path.join(datadir,'gender_age_train.csv'),\n",
    "                      index_col='device_id')\n",
    "\n",
    "#Do the same for gender_age_test\n",
    "gatest = pd.read_csv(os.path.join(datadir,'gender_age_test.csv'),\n",
    "                     index_col = 'device_id')\n",
    "\n",
    "#And again for phone_brand_device_model\n",
    "phone = pd.read_csv(os.path.join(datadir,'phone_brand_device_model.csv'))\n",
    "\n",
    "#Get rid of duplicate device ids in phone, keep the first one that occurs\n",
    "phone = phone.drop_duplicates('device_id',keep='first').set_index('device_id')\n",
    "\n",
    "#Same for events, and correctly set the datatype for the timestamp feature\n",
    "    #to be a date-time YYYY-MM-DD 00:HH:MM\n",
    "events = pd.read_csv(os.path.join(datadir,'events.csv'),\n",
    "                     parse_dates=['timestamp'], index_col='event_id')\n",
    "\n",
    "#Same deal for app_events but not the is_installed feature\n",
    "    #the idea is that if the app is active, it is installed\n",
    "appevents = pd.read_csv(os.path.join(datadir,'app_events.csv'), \n",
    "                        usecols=['event_id','app_id','is_active'],\n",
    "                        dtype={'is_active':bool})\n",
    "\n",
    "#Same for label_categories\n",
    "applabels = pd.read_csv(os.path.join(datadir,'app_labels.csv'))\n",
    "\n",
    "#Revisit this later\n",
    "#labelcats = pd.read_csv(os.path.join(datadir,'label_categories.csv'))"
   ]
  },
  {
   "cell_type": "code",
   "execution_count": 58,
   "metadata": {
    "collapsed": false
   },
   "outputs": [
    {
     "data": {
      "text/html": [
       "<div>\n",
       "<table border=\"1\" class=\"dataframe\">\n",
       "  <thead>\n",
       "    <tr style=\"text-align: right;\">\n",
       "      <th></th>\n",
       "      <th>gender</th>\n",
       "      <th>age</th>\n",
       "      <th>group</th>\n",
       "    </tr>\n",
       "    <tr>\n",
       "      <th>device_id</th>\n",
       "      <th></th>\n",
       "      <th></th>\n",
       "      <th></th>\n",
       "    </tr>\n",
       "  </thead>\n",
       "  <tbody>\n",
       "    <tr>\n",
       "      <th>-8076087639492063270</th>\n",
       "      <td>M</td>\n",
       "      <td>35</td>\n",
       "      <td>M32-38</td>\n",
       "    </tr>\n",
       "    <tr>\n",
       "      <th>-2897161552818060146</th>\n",
       "      <td>M</td>\n",
       "      <td>35</td>\n",
       "      <td>M32-38</td>\n",
       "    </tr>\n",
       "    <tr>\n",
       "      <th>-8260683887967679142</th>\n",
       "      <td>M</td>\n",
       "      <td>35</td>\n",
       "      <td>M32-38</td>\n",
       "    </tr>\n",
       "    <tr>\n",
       "      <th>-4938849341048082022</th>\n",
       "      <td>M</td>\n",
       "      <td>30</td>\n",
       "      <td>M29-31</td>\n",
       "    </tr>\n",
       "    <tr>\n",
       "      <th>245133531816851882</th>\n",
       "      <td>M</td>\n",
       "      <td>30</td>\n",
       "      <td>M29-31</td>\n",
       "    </tr>\n",
       "  </tbody>\n",
       "</table>\n",
       "</div>"
      ],
      "text/plain": [
       "                     gender  age   group\n",
       "device_id                               \n",
       "-8076087639492063270      M   35  M32-38\n",
       "-2897161552818060146      M   35  M32-38\n",
       "-8260683887967679142      M   35  M32-38\n",
       "-4938849341048082022      M   30  M29-31\n",
       " 245133531816851882       M   30  M29-31"
      ]
     },
     "execution_count": 58,
     "metadata": {},
     "output_type": "execute_result"
    }
   ],
   "source": [
    "#Look at the first 5 tuples for the gender age group training set\n",
    "gatrain.head(n=5)"
   ]
  },
  {
   "cell_type": "code",
   "execution_count": 59,
   "metadata": {
    "collapsed": false
   },
   "outputs": [
    {
     "data": {
      "text/html": [
       "<div>\n",
       "<table border=\"1\" class=\"dataframe\">\n",
       "  <thead>\n",
       "    <tr style=\"text-align: right;\">\n",
       "      <th></th>\n",
       "      <th>phone_brand</th>\n",
       "      <th>device_model</th>\n",
       "    </tr>\n",
       "    <tr>\n",
       "      <th>device_id</th>\n",
       "      <th></th>\n",
       "      <th></th>\n",
       "    </tr>\n",
       "  </thead>\n",
       "  <tbody>\n",
       "    <tr>\n",
       "      <th>-8890648629457979026</th>\n",
       "      <td>小米</td>\n",
       "      <td>红米</td>\n",
       "    </tr>\n",
       "    <tr>\n",
       "      <th>1277779817574759137</th>\n",
       "      <td>小米</td>\n",
       "      <td>MI 2</td>\n",
       "    </tr>\n",
       "    <tr>\n",
       "      <th>5137427614288105724</th>\n",
       "      <td>三星</td>\n",
       "      <td>Galaxy S4</td>\n",
       "    </tr>\n",
       "    <tr>\n",
       "      <th>3669464369358936369</th>\n",
       "      <td>SUGAR</td>\n",
       "      <td>时尚手机</td>\n",
       "    </tr>\n",
       "    <tr>\n",
       "      <th>-5019277647504317457</th>\n",
       "      <td>三星</td>\n",
       "      <td>Galaxy Note 2</td>\n",
       "    </tr>\n",
       "  </tbody>\n",
       "</table>\n",
       "</div>"
      ],
      "text/plain": [
       "                     phone_brand   device_model\n",
       "device_id                                      \n",
       "-8890648629457979026          小米             红米\n",
       " 1277779817574759137          小米           MI 2\n",
       " 5137427614288105724          三星      Galaxy S4\n",
       " 3669464369358936369       SUGAR           时尚手机\n",
       "-5019277647504317457          三星  Galaxy Note 2"
      ]
     },
     "execution_count": 59,
     "metadata": {},
     "output_type": "execute_result"
    }
   ],
   "source": [
    "#Look at the first 5 for the devices and their associated brands and models\n",
    "phone.head(n=5)"
   ]
  },
  {
   "cell_type": "code",
   "execution_count": 60,
   "metadata": {
    "collapsed": false
   },
   "outputs": [
    {
     "data": {
      "text/html": [
       "<div>\n",
       "<table border=\"1\" class=\"dataframe\">\n",
       "  <thead>\n",
       "    <tr style=\"text-align: right;\">\n",
       "      <th></th>\n",
       "      <th>device_id</th>\n",
       "      <th>timestamp</th>\n",
       "      <th>longitude</th>\n",
       "      <th>latitude</th>\n",
       "    </tr>\n",
       "    <tr>\n",
       "      <th>event_id</th>\n",
       "      <th></th>\n",
       "      <th></th>\n",
       "      <th></th>\n",
       "      <th></th>\n",
       "    </tr>\n",
       "  </thead>\n",
       "  <tbody>\n",
       "    <tr>\n",
       "      <th>1</th>\n",
       "      <td>29182687948017175</td>\n",
       "      <td>2016-05-01 00:55:25</td>\n",
       "      <td>121.38</td>\n",
       "      <td>31.24</td>\n",
       "    </tr>\n",
       "    <tr>\n",
       "      <th>2</th>\n",
       "      <td>-6401643145415154744</td>\n",
       "      <td>2016-05-01 00:54:12</td>\n",
       "      <td>103.65</td>\n",
       "      <td>30.97</td>\n",
       "    </tr>\n",
       "    <tr>\n",
       "      <th>3</th>\n",
       "      <td>-4833982096941402721</td>\n",
       "      <td>2016-05-01 00:08:05</td>\n",
       "      <td>106.60</td>\n",
       "      <td>29.70</td>\n",
       "    </tr>\n",
       "    <tr>\n",
       "      <th>4</th>\n",
       "      <td>-6815121365017318426</td>\n",
       "      <td>2016-05-01 00:06:40</td>\n",
       "      <td>104.27</td>\n",
       "      <td>23.28</td>\n",
       "    </tr>\n",
       "    <tr>\n",
       "      <th>5</th>\n",
       "      <td>-5373797595892518570</td>\n",
       "      <td>2016-05-01 00:07:18</td>\n",
       "      <td>115.88</td>\n",
       "      <td>28.66</td>\n",
       "    </tr>\n",
       "  </tbody>\n",
       "</table>\n",
       "</div>"
      ],
      "text/plain": [
       "                    device_id           timestamp  longitude  latitude\n",
       "event_id                                                              \n",
       "1           29182687948017175 2016-05-01 00:55:25     121.38     31.24\n",
       "2        -6401643145415154744 2016-05-01 00:54:12     103.65     30.97\n",
       "3        -4833982096941402721 2016-05-01 00:08:05     106.60     29.70\n",
       "4        -6815121365017318426 2016-05-01 00:06:40     104.27     23.28\n",
       "5        -5373797595892518570 2016-05-01 00:07:18     115.88     28.66"
      ]
     },
     "execution_count": 60,
     "metadata": {},
     "output_type": "execute_result"
    }
   ],
   "source": [
    "#Look at the first 5 for the phone events data set\n",
    "events.head(n=5)"
   ]
  },
  {
   "cell_type": "code",
   "execution_count": 61,
   "metadata": {
    "collapsed": false
   },
   "outputs": [
    {
     "data": {
      "text/html": [
       "<div>\n",
       "<table border=\"1\" class=\"dataframe\">\n",
       "  <thead>\n",
       "    <tr style=\"text-align: right;\">\n",
       "      <th></th>\n",
       "      <th>event_id</th>\n",
       "      <th>app_id</th>\n",
       "      <th>is_active</th>\n",
       "    </tr>\n",
       "  </thead>\n",
       "  <tbody>\n",
       "    <tr>\n",
       "      <th>0</th>\n",
       "      <td>2</td>\n",
       "      <td>5927333115845830913</td>\n",
       "      <td>True</td>\n",
       "    </tr>\n",
       "    <tr>\n",
       "      <th>1</th>\n",
       "      <td>2</td>\n",
       "      <td>-5720078949152207372</td>\n",
       "      <td>False</td>\n",
       "    </tr>\n",
       "    <tr>\n",
       "      <th>2</th>\n",
       "      <td>2</td>\n",
       "      <td>-1633887856876571208</td>\n",
       "      <td>False</td>\n",
       "    </tr>\n",
       "    <tr>\n",
       "      <th>3</th>\n",
       "      <td>2</td>\n",
       "      <td>-653184325010919369</td>\n",
       "      <td>True</td>\n",
       "    </tr>\n",
       "    <tr>\n",
       "      <th>4</th>\n",
       "      <td>2</td>\n",
       "      <td>8693964245073640147</td>\n",
       "      <td>True</td>\n",
       "    </tr>\n",
       "  </tbody>\n",
       "</table>\n",
       "</div>"
      ],
      "text/plain": [
       "   event_id               app_id is_active\n",
       "0         2  5927333115845830913      True\n",
       "1         2 -5720078949152207372     False\n",
       "2         2 -1633887856876571208     False\n",
       "3         2  -653184325010919369      True\n",
       "4         2  8693964245073640147      True"
      ]
     },
     "execution_count": 61,
     "metadata": {},
     "output_type": "execute_result"
    }
   ],
   "source": [
    "#Look at the first 5 for the table that ties the application id to the mobile event\n",
    "appevents.head(n=5)"
   ]
  },
  {
   "cell_type": "code",
   "execution_count": 62,
   "metadata": {
    "collapsed": false
   },
   "outputs": [
    {
     "data": {
      "text/html": [
       "<div>\n",
       "<table border=\"1\" class=\"dataframe\">\n",
       "  <thead>\n",
       "    <tr style=\"text-align: right;\">\n",
       "      <th></th>\n",
       "      <th>app_id</th>\n",
       "      <th>label_id</th>\n",
       "    </tr>\n",
       "  </thead>\n",
       "  <tbody>\n",
       "    <tr>\n",
       "      <th>0</th>\n",
       "      <td>7324884708820027918</td>\n",
       "      <td>251</td>\n",
       "    </tr>\n",
       "    <tr>\n",
       "      <th>1</th>\n",
       "      <td>-4494216993218550286</td>\n",
       "      <td>251</td>\n",
       "    </tr>\n",
       "    <tr>\n",
       "      <th>2</th>\n",
       "      <td>6058196446775239644</td>\n",
       "      <td>406</td>\n",
       "    </tr>\n",
       "    <tr>\n",
       "      <th>3</th>\n",
       "      <td>6058196446775239644</td>\n",
       "      <td>407</td>\n",
       "    </tr>\n",
       "    <tr>\n",
       "      <th>4</th>\n",
       "      <td>8694625920731541625</td>\n",
       "      <td>406</td>\n",
       "    </tr>\n",
       "  </tbody>\n",
       "</table>\n",
       "</div>"
      ],
      "text/plain": [
       "                app_id  label_id\n",
       "0  7324884708820027918       251\n",
       "1 -4494216993218550286       251\n",
       "2  6058196446775239644       406\n",
       "3  6058196446775239644       407\n",
       "4  8694625920731541625       406"
      ]
     },
     "execution_count": 62,
     "metadata": {},
     "output_type": "execute_result"
    }
   ],
   "source": [
    "#Look at the table that associates mobile applications\n",
    "applabels.head(n=5)"
   ]
  },
  {
   "cell_type": "code",
   "execution_count": 63,
   "metadata": {
    "collapsed": true
   },
   "outputs": [],
   "source": [
    "#Using one-hot encoding, create two columns that show which train or test set row a particular device_id belongs to\n",
    "    #one-hot encoding is for some models that cannot encode a n way choice properly\n",
    "#http://stackoverflow.com/questions/17469835/one-hot-encoding-for-machine-learning\n",
    "gatrain['trainrow'] = np.arange(gatrain.shape[0])\n",
    "\n",
    "gatest['testrow'] = np.arange(gatest.shape[0])"
   ]
  },
  {
   "cell_type": "code",
   "execution_count": 64,
   "metadata": {
    "collapsed": false
   },
   "outputs": [
    {
     "name": "stdout",
     "output_type": "stream",
     "text": [
      "feature matrix shapes: train (74645, 131), test (112071, 131)\n"
     ]
    }
   ],
   "source": [
    "#Because the dataset information is from Chinese users, many of the phone brands and models are in Hanzi, not english\n",
    "    #UTF-8 Unicode\n",
    "#Start some preprocessing from scikit-learn to transform the labels\n",
    "brandencoder = LabelEncoder().fit(phone.phone_brand)\n",
    "phone['brand'] = brandencoder.transform(phone['phone_brand'])\n",
    "\n",
    "#Propogate the associated phone brands to both the train and test sets given\n",
    "gatrain['brand'] = phone['brand']\n",
    "gatest['brand'] = phone['brand']\n",
    "\n",
    "#Create compressed sparse row matrices for both train and test\n",
    "Xtr_brand = csr_matrix((np.ones(gatrain.shape[0]), \n",
    "                       (gatrain.trainrow, gatrain.brand)))\n",
    "\n",
    "Xte_brand = csr_matrix((np.ones(gatest.shape[0]), \n",
    "                       (gatest.testrow, gatest.brand)))\n",
    "\n",
    "#Double check the dimensions of the two csr matrices\n",
    "print('feature matrix shapes: train {}, test {}'.format(Xtr_brand.shape, Xte_brand.shape))"
   ]
  },
  {
   "cell_type": "code",
   "execution_count": 65,
   "metadata": {
    "collapsed": false
   },
   "outputs": [
    {
     "data": {
      "text/html": [
       "<div>\n",
       "<table border=\"1\" class=\"dataframe\">\n",
       "  <thead>\n",
       "    <tr style=\"text-align: right;\">\n",
       "      <th></th>\n",
       "      <th>gender</th>\n",
       "      <th>age</th>\n",
       "      <th>group</th>\n",
       "      <th>trainrow</th>\n",
       "      <th>brand</th>\n",
       "    </tr>\n",
       "    <tr>\n",
       "      <th>device_id</th>\n",
       "      <th></th>\n",
       "      <th></th>\n",
       "      <th></th>\n",
       "      <th></th>\n",
       "      <th></th>\n",
       "    </tr>\n",
       "  </thead>\n",
       "  <tbody>\n",
       "    <tr>\n",
       "      <th>-8076087639492063270</th>\n",
       "      <td>M</td>\n",
       "      <td>35</td>\n",
       "      <td>M32-38</td>\n",
       "      <td>0</td>\n",
       "      <td>51</td>\n",
       "    </tr>\n",
       "    <tr>\n",
       "      <th>-2897161552818060146</th>\n",
       "      <td>M</td>\n",
       "      <td>35</td>\n",
       "      <td>M32-38</td>\n",
       "      <td>1</td>\n",
       "      <td>51</td>\n",
       "    </tr>\n",
       "    <tr>\n",
       "      <th>-8260683887967679142</th>\n",
       "      <td>M</td>\n",
       "      <td>35</td>\n",
       "      <td>M32-38</td>\n",
       "      <td>2</td>\n",
       "      <td>51</td>\n",
       "    </tr>\n",
       "    <tr>\n",
       "      <th>-4938849341048082022</th>\n",
       "      <td>M</td>\n",
       "      <td>30</td>\n",
       "      <td>M29-31</td>\n",
       "      <td>3</td>\n",
       "      <td>51</td>\n",
       "    </tr>\n",
       "    <tr>\n",
       "      <th>245133531816851882</th>\n",
       "      <td>M</td>\n",
       "      <td>30</td>\n",
       "      <td>M29-31</td>\n",
       "      <td>4</td>\n",
       "      <td>51</td>\n",
       "    </tr>\n",
       "  </tbody>\n",
       "</table>\n",
       "</div>"
      ],
      "text/plain": [
       "                     gender  age   group  trainrow  brand\n",
       "device_id                                                \n",
       "-8076087639492063270      M   35  M32-38         0     51\n",
       "-2897161552818060146      M   35  M32-38         1     51\n",
       "-8260683887967679142      M   35  M32-38         2     51\n",
       "-4938849341048082022      M   30  M29-31         3     51\n",
       " 245133531816851882       M   30  M29-31         4     51"
      ]
     },
     "execution_count": 65,
     "metadata": {},
     "output_type": "execute_result"
    }
   ],
   "source": [
    "#Have a look at the top 5 tuples for the gatrain dataset to look at the encoded brands\n",
    "gatrain.head()"
   ]
  },
  {
   "cell_type": "code",
   "execution_count": 66,
   "metadata": {
    "collapsed": false
   },
   "outputs": [
    {
     "name": "stdout",
     "output_type": "stream",
     "text": [
      "feature matrix shapes: train (74645, 1667), test (112071, 1667)\n"
     ]
    }
   ],
   "source": [
    "#Many of the cellphone models are also Hanzi, not English characters (pinyin)\n",
    "#Use the same type of preprocessing to transform the models into categorical levels represented numerically\n",
    "modelencoder = LabelEncoder().fit(phone.phone_brand.str.cat(phone.device_model))\n",
    "phone['model'] = modelencoder.transform(phone.phone_brand.str.cat(phone.device_model))\n",
    "\n",
    "#Propogate the phone models the same way as the brand\n",
    "gatrain['model'] = phone['model']\n",
    "gatest['model'] = phone['model']\n",
    "\n",
    "#Same thing with the compressed sparse row matrices as done for the brands\n",
    "Xtr_model = csr_matrix((np.ones(gatrain.shape[0]), \n",
    "                       (gatrain.trainrow, gatrain.model)))\n",
    "Xte_model = csr_matrix((np.ones(gatest.shape[0]), \n",
    "                       (gatest.testrow, gatest.model)))\n",
    "\n",
    "#And again with double checking the dimensions\n",
    "print('feature matrix shapes: train {}, test {}'.format(Xtr_model.shape, Xte_model.shape))"
   ]
  },
  {
   "cell_type": "code",
   "execution_count": 67,
   "metadata": {
    "collapsed": false
   },
   "outputs": [
    {
     "data": {
      "text/html": [
       "<div>\n",
       "<table border=\"1\" class=\"dataframe\">\n",
       "  <thead>\n",
       "    <tr style=\"text-align: right;\">\n",
       "      <th></th>\n",
       "      <th>gender</th>\n",
       "      <th>age</th>\n",
       "      <th>group</th>\n",
       "      <th>trainrow</th>\n",
       "      <th>brand</th>\n",
       "      <th>model</th>\n",
       "    </tr>\n",
       "    <tr>\n",
       "      <th>device_id</th>\n",
       "      <th></th>\n",
       "      <th></th>\n",
       "      <th></th>\n",
       "      <th></th>\n",
       "      <th></th>\n",
       "      <th></th>\n",
       "    </tr>\n",
       "  </thead>\n",
       "  <tbody>\n",
       "    <tr>\n",
       "      <th>-8076087639492063270</th>\n",
       "      <td>M</td>\n",
       "      <td>35</td>\n",
       "      <td>M32-38</td>\n",
       "      <td>0</td>\n",
       "      <td>51</td>\n",
       "      <td>843</td>\n",
       "    </tr>\n",
       "    <tr>\n",
       "      <th>-2897161552818060146</th>\n",
       "      <td>M</td>\n",
       "      <td>35</td>\n",
       "      <td>M32-38</td>\n",
       "      <td>1</td>\n",
       "      <td>51</td>\n",
       "      <td>843</td>\n",
       "    </tr>\n",
       "    <tr>\n",
       "      <th>-8260683887967679142</th>\n",
       "      <td>M</td>\n",
       "      <td>35</td>\n",
       "      <td>M32-38</td>\n",
       "      <td>2</td>\n",
       "      <td>51</td>\n",
       "      <td>843</td>\n",
       "    </tr>\n",
       "    <tr>\n",
       "      <th>-4938849341048082022</th>\n",
       "      <td>M</td>\n",
       "      <td>30</td>\n",
       "      <td>M29-31</td>\n",
       "      <td>3</td>\n",
       "      <td>51</td>\n",
       "      <td>865</td>\n",
       "    </tr>\n",
       "    <tr>\n",
       "      <th>245133531816851882</th>\n",
       "      <td>M</td>\n",
       "      <td>30</td>\n",
       "      <td>M29-31</td>\n",
       "      <td>4</td>\n",
       "      <td>51</td>\n",
       "      <td>847</td>\n",
       "    </tr>\n",
       "  </tbody>\n",
       "</table>\n",
       "</div>"
      ],
      "text/plain": [
       "                     gender  age   group  trainrow  brand  model\n",
       "device_id                                                       \n",
       "-8076087639492063270      M   35  M32-38         0     51    843\n",
       "-2897161552818060146      M   35  M32-38         1     51    843\n",
       "-8260683887967679142      M   35  M32-38         2     51    843\n",
       "-4938849341048082022      M   30  M29-31         3     51    865\n",
       " 245133531816851882       M   30  M29-31         4     51    847"
      ]
     },
     "execution_count": 67,
     "metadata": {},
     "output_type": "execute_result"
    }
   ],
   "source": [
    "#Take a look at gatrain again to see the new numerical levels for models\n",
    "gatrain.head()"
   ]
  },
  {
   "cell_type": "code",
   "execution_count": 68,
   "metadata": {
    "collapsed": false
   },
   "outputs": [],
   "source": [
    "#Do the same kind of transformation to the app_ids\n",
    "applabelenc = LabelEncoder().fit(appevents.app_id)\n",
    "appevents['app'] = applabelenc.transform(appevents.app_id)\n",
    "\n",
    "#Find the number of apps/levels\n",
    "napps = len(applabelenc.classes_)\n",
    "\n",
    "#Merging all the tables together becomes massive\n",
    "#Merge and group by device ids and the number of times the app was used such that\n",
    "    #The id, app, and size is what makes each tuple unique\n",
    "deviceapps = (appevents.merge(events[['device_id']], how='left',left_on='event_id',right_index=True)\n",
    "                       .groupby(['device_id','app'])['app'].agg(['size'])\n",
    "                       .merge(gatrain[['trainrow']], how='left', left_index=True, right_index=True)\n",
    "                       .merge(gatest[['testrow']], how='left', left_index=True, right_index=True)\n",
    "                       .reset_index())\n"
   ]
  },
  {
   "cell_type": "code",
   "execution_count": 69,
   "metadata": {
    "collapsed": false
   },
   "outputs": [
    {
     "data": {
      "text/html": [
       "<div>\n",
       "<table border=\"1\" class=\"dataframe\">\n",
       "  <thead>\n",
       "    <tr style=\"text-align: right;\">\n",
       "      <th></th>\n",
       "      <th>device_id</th>\n",
       "      <th>app</th>\n",
       "      <th>size</th>\n",
       "      <th>trainrow</th>\n",
       "      <th>testrow</th>\n",
       "    </tr>\n",
       "  </thead>\n",
       "  <tbody>\n",
       "    <tr>\n",
       "      <th>0</th>\n",
       "      <td>-9222956879900151005</td>\n",
       "      <td>548</td>\n",
       "      <td>18</td>\n",
       "      <td>21594.0</td>\n",
       "      <td>NaN</td>\n",
       "    </tr>\n",
       "    <tr>\n",
       "      <th>1</th>\n",
       "      <td>-9222956879900151005</td>\n",
       "      <td>1096</td>\n",
       "      <td>18</td>\n",
       "      <td>21594.0</td>\n",
       "      <td>NaN</td>\n",
       "    </tr>\n",
       "    <tr>\n",
       "      <th>2</th>\n",
       "      <td>-9222956879900151005</td>\n",
       "      <td>1248</td>\n",
       "      <td>26</td>\n",
       "      <td>21594.0</td>\n",
       "      <td>NaN</td>\n",
       "    </tr>\n",
       "    <tr>\n",
       "      <th>3</th>\n",
       "      <td>-9222956879900151005</td>\n",
       "      <td>1545</td>\n",
       "      <td>12</td>\n",
       "      <td>21594.0</td>\n",
       "      <td>NaN</td>\n",
       "    </tr>\n",
       "    <tr>\n",
       "      <th>4</th>\n",
       "      <td>-9222956879900151005</td>\n",
       "      <td>1664</td>\n",
       "      <td>18</td>\n",
       "      <td>21594.0</td>\n",
       "      <td>NaN</td>\n",
       "    </tr>\n",
       "    <tr>\n",
       "      <th>5</th>\n",
       "      <td>-9222956879900151005</td>\n",
       "      <td>1848</td>\n",
       "      <td>32</td>\n",
       "      <td>21594.0</td>\n",
       "      <td>NaN</td>\n",
       "    </tr>\n",
       "    <tr>\n",
       "      <th>6</th>\n",
       "      <td>-9222956879900151005</td>\n",
       "      <td>2236</td>\n",
       "      <td>28</td>\n",
       "      <td>21594.0</td>\n",
       "      <td>NaN</td>\n",
       "    </tr>\n",
       "    <tr>\n",
       "      <th>7</th>\n",
       "      <td>-9222956879900151005</td>\n",
       "      <td>2350</td>\n",
       "      <td>28</td>\n",
       "      <td>21594.0</td>\n",
       "      <td>NaN</td>\n",
       "    </tr>\n",
       "    <tr>\n",
       "      <th>8</th>\n",
       "      <td>-9222956879900151005</td>\n",
       "      <td>2626</td>\n",
       "      <td>27</td>\n",
       "      <td>21594.0</td>\n",
       "      <td>NaN</td>\n",
       "    </tr>\n",
       "    <tr>\n",
       "      <th>9</th>\n",
       "      <td>-9222956879900151005</td>\n",
       "      <td>3384</td>\n",
       "      <td>30</td>\n",
       "      <td>21594.0</td>\n",
       "      <td>NaN</td>\n",
       "    </tr>\n",
       "  </tbody>\n",
       "</table>\n",
       "</div>"
      ],
      "text/plain": [
       "             device_id   app  size  trainrow  testrow\n",
       "0 -9222956879900151005   548    18   21594.0      NaN\n",
       "1 -9222956879900151005  1096    18   21594.0      NaN\n",
       "2 -9222956879900151005  1248    26   21594.0      NaN\n",
       "3 -9222956879900151005  1545    12   21594.0      NaN\n",
       "4 -9222956879900151005  1664    18   21594.0      NaN\n",
       "5 -9222956879900151005  1848    32   21594.0      NaN\n",
       "6 -9222956879900151005  2236    28   21594.0      NaN\n",
       "7 -9222956879900151005  2350    28   21594.0      NaN\n",
       "8 -9222956879900151005  2626    27   21594.0      NaN\n",
       "9 -9222956879900151005  3384    30   21594.0      NaN"
      ]
     },
     "execution_count": 69,
     "metadata": {},
     "output_type": "execute_result"
    }
   ],
   "source": [
    "deviceapps.head(n=10)"
   ]
  },
  {
   "cell_type": "code",
   "execution_count": 70,
   "metadata": {
    "collapsed": false
   },
   "outputs": [
    {
     "name": "stdout",
     "output_type": "stream",
     "text": [
      "feature matrix shapes: train (74645, 19237), test (112071, 19237)\n"
     ]
    }
   ],
   "source": [
    "#Drop the tuples where trainrow has an NA\n",
    "data = deviceapps.dropna(subset=['trainrow'])\n",
    "\n",
    "#Same thing with the compressed sparse row matrices as before\n",
    "Xtr_app = csr_matrix((np.ones(data.shape[0]), (data.trainrow, data.app)), \n",
    "                      shape=(gatrain.shape[0],napps))\n",
    "\n",
    "#Drop the tuples where testrow has an NA\n",
    "data = deviceapps.dropna(subset=['testrow'])\n",
    "\n",
    "Xte_app = csr_matrix((np.ones(data.shape[0]), (data.testrow, data.app)), \n",
    "                      shape=(gatest.shape[0],napps))\n",
    "\n",
    "print('feature matrix shapes: train {}, test {}'.format(Xtr_app.shape, Xte_app.shape))"
   ]
  },
  {
   "cell_type": "code",
   "execution_count": 71,
   "metadata": {
    "collapsed": false
   },
   "outputs": [
    {
     "data": {
      "text/html": [
       "<div>\n",
       "<table border=\"1\" class=\"dataframe\">\n",
       "  <thead>\n",
       "    <tr style=\"text-align: right;\">\n",
       "      <th></th>\n",
       "      <th>device_id</th>\n",
       "      <th>app</th>\n",
       "      <th>size</th>\n",
       "      <th>trainrow</th>\n",
       "      <th>testrow</th>\n",
       "    </tr>\n",
       "  </thead>\n",
       "  <tbody>\n",
       "    <tr>\n",
       "      <th>72</th>\n",
       "      <td>-9222661944218806987</td>\n",
       "      <td>1867</td>\n",
       "      <td>3</td>\n",
       "      <td>NaN</td>\n",
       "      <td>13612.0</td>\n",
       "    </tr>\n",
       "    <tr>\n",
       "      <th>73</th>\n",
       "      <td>-9222661944218806987</td>\n",
       "      <td>7519</td>\n",
       "      <td>8</td>\n",
       "      <td>NaN</td>\n",
       "      <td>13612.0</td>\n",
       "    </tr>\n",
       "    <tr>\n",
       "      <th>74</th>\n",
       "      <td>-9222661944218806987</td>\n",
       "      <td>7843</td>\n",
       "      <td>1</td>\n",
       "      <td>NaN</td>\n",
       "      <td>13612.0</td>\n",
       "    </tr>\n",
       "    <tr>\n",
       "      <th>75</th>\n",
       "      <td>-9222661944218806987</td>\n",
       "      <td>8704</td>\n",
       "      <td>4</td>\n",
       "      <td>NaN</td>\n",
       "      <td>13612.0</td>\n",
       "    </tr>\n",
       "    <tr>\n",
       "      <th>76</th>\n",
       "      <td>-9222661944218806987</td>\n",
       "      <td>10000</td>\n",
       "      <td>1</td>\n",
       "      <td>NaN</td>\n",
       "      <td>13612.0</td>\n",
       "    </tr>\n",
       "  </tbody>\n",
       "</table>\n",
       "</div>"
      ],
      "text/plain": [
       "              device_id    app  size  trainrow  testrow\n",
       "72 -9222661944218806987   1867     3       NaN  13612.0\n",
       "73 -9222661944218806987   7519     8       NaN  13612.0\n",
       "74 -9222661944218806987   7843     1       NaN  13612.0\n",
       "75 -9222661944218806987   8704     4       NaN  13612.0\n",
       "76 -9222661944218806987  10000     1       NaN  13612.0"
      ]
     },
     "execution_count": 71,
     "metadata": {},
     "output_type": "execute_result"
    }
   ],
   "source": [
    "data.head()"
   ]
  },
  {
   "cell_type": "code",
   "execution_count": 72,
   "metadata": {
    "collapsed": false
   },
   "outputs": [
    {
     "name": "stdout",
     "output_type": "stream",
     "text": [
      "Number of classes/nlabels: 492\n"
     ]
    }
   ],
   "source": [
    "#From the appevents dataset grab the location feature vector from each unique id\n",
    "applabels = applabels.loc[applabels.app_id.isin(appevents.app_id.unique())]\n",
    "applabels['app'] = applabelenc.transform(applabels.app_id)\n",
    "\n",
    "\n",
    "labelencoder = LabelEncoder().fit(applabels.label_id)\n",
    "\n",
    "applabels['label'] = labelencoder.transform(applabels.label_id)\n",
    "\n",
    "nlabels = len(labelencoder.classes_)\n",
    "print('Number of classes/nlabels: {}'.format(nlabels))"
   ]
  },
  {
   "cell_type": "code",
   "execution_count": 73,
   "metadata": {
    "collapsed": false
   },
   "outputs": [
    {
     "data": {
      "text/html": [
       "<div>\n",
       "<table border=\"1\" class=\"dataframe\">\n",
       "  <thead>\n",
       "    <tr style=\"text-align: right;\">\n",
       "      <th></th>\n",
       "      <th>device_id</th>\n",
       "      <th>label</th>\n",
       "      <th>size</th>\n",
       "      <th>trainrow</th>\n",
       "      <th>testrow</th>\n",
       "    </tr>\n",
       "  </thead>\n",
       "  <tbody>\n",
       "    <tr>\n",
       "      <th>0</th>\n",
       "      <td>-9222956879900151005</td>\n",
       "      <td>117</td>\n",
       "      <td>1</td>\n",
       "      <td>21594.0</td>\n",
       "      <td>NaN</td>\n",
       "    </tr>\n",
       "    <tr>\n",
       "      <th>1</th>\n",
       "      <td>-9222956879900151005</td>\n",
       "      <td>120</td>\n",
       "      <td>1</td>\n",
       "      <td>21594.0</td>\n",
       "      <td>NaN</td>\n",
       "    </tr>\n",
       "    <tr>\n",
       "      <th>2</th>\n",
       "      <td>-9222956879900151005</td>\n",
       "      <td>126</td>\n",
       "      <td>1</td>\n",
       "      <td>21594.0</td>\n",
       "      <td>NaN</td>\n",
       "    </tr>\n",
       "    <tr>\n",
       "      <th>3</th>\n",
       "      <td>-9222956879900151005</td>\n",
       "      <td>138</td>\n",
       "      <td>2</td>\n",
       "      <td>21594.0</td>\n",
       "      <td>NaN</td>\n",
       "    </tr>\n",
       "    <tr>\n",
       "      <th>4</th>\n",
       "      <td>-9222956879900151005</td>\n",
       "      <td>147</td>\n",
       "      <td>2</td>\n",
       "      <td>21594.0</td>\n",
       "      <td>NaN</td>\n",
       "    </tr>\n",
       "  </tbody>\n",
       "</table>\n",
       "</div>"
      ],
      "text/plain": [
       "             device_id  label  size  trainrow  testrow\n",
       "0 -9222956879900151005    117     1   21594.0      NaN\n",
       "1 -9222956879900151005    120     1   21594.0      NaN\n",
       "2 -9222956879900151005    126     1   21594.0      NaN\n",
       "3 -9222956879900151005    138     2   21594.0      NaN\n",
       "4 -9222956879900151005    147     2   21594.0      NaN"
      ]
     },
     "execution_count": 73,
     "metadata": {},
     "output_type": "execute_result"
    }
   ],
   "source": [
    "#Group and aggregate the devices and\n",
    "devicelabels = (deviceapps[['device_id','app']]\n",
    "                .merge(applabels[['app','label']])\n",
    "                .groupby(['device_id','label'])['app'].agg(['size'])\n",
    "                #Make sure to use left joins here\n",
    "                .merge(gatrain[['trainrow']], how='left', left_index=True, right_index=True)\n",
    "                .merge(gatest[['testrow']], how='left', left_index=True, right_index=True)\n",
    "                .reset_index())\n",
    "devicelabels.head()"
   ]
  },
  {
   "cell_type": "code",
   "execution_count": 74,
   "metadata": {
    "collapsed": false
   },
   "outputs": [
    {
     "name": "stdout",
     "output_type": "stream",
     "text": [
      "feature matrix shapes: train (74645, 492), test (112071, 492)\n"
     ]
    }
   ],
   "source": [
    "data = devicelabels.dropna(subset=['trainrow'])\n",
    "\n",
    "Xtr_label = csr_matrix((np.ones(data.shape[0]), (data.trainrow, data.label)), \n",
    "                      shape=(gatrain.shape[0],nlabels))\n",
    "\n",
    "data = devicelabels.dropna(subset=['testrow'])\n",
    "\n",
    "Xte_label = csr_matrix((np.ones(data.shape[0]), (data.testrow, data.label)), \n",
    "                      shape=(gatest.shape[0],nlabels))\n",
    "\n",
    "print('feature matrix shapes: train {}, test {}'.format(Xtr_label.shape, Xte_label.shape))"
   ]
  },
  {
   "cell_type": "code",
   "execution_count": 75,
   "metadata": {
    "collapsed": false
   },
   "outputs": [
    {
     "name": "stdout",
     "output_type": "stream",
     "text": [
      "Final matrix shapes: train (74645, 21527), test (112071, 21527)\n"
     ]
    }
   ],
   "source": [
    "#Stack the csr's created earlier into new test and train sets\n",
    "Xtrain = hstack((Xtr_brand, Xtr_model, Xtr_app, Xtr_label), format='csr')\n",
    "Xtest =  hstack((Xte_brand, Xte_model, Xte_app, Xte_label), format='csr')\n",
    "\n",
    "print('Final matrix shapes: train {}, test {}'.format(Xtrain.shape, Xtest.shape))"
   ]
  },
  {
   "cell_type": "code",
   "execution_count": 76,
   "metadata": {
    "collapsed": false
   },
   "outputs": [
    {
     "name": "stdout",
     "output_type": "stream",
     "text": [
      "Number of features being used for modelling: 12\n"
     ]
    }
   ],
   "source": [
    "targetencoder = LabelEncoder().fit(gatrain.group)\n",
    "y = targetencoder.transform(gatrain.group)\n",
    "\n",
    "nclasses = len(targetencoder.classes_)\n",
    "print('Number of features being used for modelling: {}'.format(nclasses))"
   ]
  },
  {
   "cell_type": "code",
   "execution_count": 77,
   "metadata": {
    "collapsed": true
   },
   "outputs": [],
   "source": [
    "def score(clf, random_state = 0):\n",
    "    \n",
    "    kf = StratifiedKFold(y, n_folds=5, shuffle=True, random_state=random_state)\n",
    "    \n",
    "    pred = np.zeros((y.shape[0],nclasses))\n",
    "    \n",
    "    for itrain, itest in kf:\n",
    "        Xtr, Xte = Xtrain[itrain, :], Xtrain[itest, :]\n",
    "        ytr, yte = y[itrain], y[itest]\n",
    "        clf.fit(Xtr, ytr)\n",
    "        pred[itest,:] = clf.predict_proba(Xte)\n",
    "        \n",
    "        # Downsize to one fold only for kernels\n",
    "        return log_loss(yte, pred[itest, :])\n",
    "        print(\"{:.5f}\".format(log_loss(yte, pred[itest,:])), end=' ')\n",
    "        \n",
    "    print('')\n",
    "    return log_loss(y, pred)"
   ]
  },
  {
   "cell_type": "code",
   "execution_count": 78,
   "metadata": {
    "collapsed": false
   },
   "outputs": [
    {
     "name": "stdout",
     "output_type": "stream",
     "text": [
      "[2.4270686819413227, 2.3180658926174691, 2.2821564660780962, 2.4336251090527594]\n"
     ]
    },
    {
     "data": {
      "image/png": "[encoded data removed]",
      "text/plain": [
       "<matplotlib.figure.Figure at 0xbe75898>"
      ]
     },
     "metadata": {},
     "output_type": "display_data"
    }
   ],
   "source": [
    "#Look at different c values to determine effects on predictions in logistic regression\n",
    "ranges = np.logspace(-4,0,4)\n",
    "res = []\n",
    "for C in ranges:\n",
    "    \n",
    "    res.append(score(LogisticRegression(C = C)))\n",
    "    \n",
    "plt.semilogx(ranges, res,'-o');\n",
    "print(res)"
   ]
  },
  {
   "cell_type": "code",
   "execution_count": 79,
   "metadata": {
    "collapsed": false
   },
   "outputs": [
    {
     "name": "stdout",
     "output_type": "stream",
     "text": [
      "[2.2848754720951452, 2.2822016661018623, 2.279878383549705, 2.2797072678798029, 2.2794173650602771, 2.3345948911191665, 2.2796067324925864]\n"
     ]
    }
   ],
   "source": [
    "#Looks like the best value is somewhere around 0.02\n",
    "cvals = [0.01, 0.013, 0.019, 0.02, 0.023, 0.29, 0.03]\n",
    "scores=[]\n",
    "for c in cvals:\n",
    "    scores.append(score(LogisticRegression(C = c)))\n",
    "print(scores)"
   ]
  },
  {
   "cell_type": "code",
   "execution_count": 80,
   "metadata": {
    "collapsed": false
   },
   "outputs": [
    {
     "data": {
      "text/plain": [
       "2.2738866627109089"
      ]
     },
     "execution_count": 80,
     "metadata": {},
     "output_type": "execute_result"
    }
   ],
   "source": [
    "#Looks like .023 is narrowed down sufficient to generate a solution file for the first run\n",
    "score(LogisticRegression(C=0.023, multi_class='multinomial',solver='lbfgs'))"
   ]
  },
  {
   "cell_type": "code",
   "execution_count": 81,
   "metadata": {
    "collapsed": false
   },
   "outputs": [
    {
     "data": {
      "text/html": [
       "<div>\n",
       "<table border=\"1\" class=\"dataframe\">\n",
       "  <thead>\n",
       "    <tr style=\"text-align: right;\">\n",
       "      <th></th>\n",
       "      <th>F23-</th>\n",
       "      <th>F24-26</th>\n",
       "      <th>F27-28</th>\n",
       "      <th>F29-32</th>\n",
       "      <th>F33-42</th>\n",
       "      <th>F43+</th>\n",
       "      <th>M22-</th>\n",
       "      <th>M23-26</th>\n",
       "      <th>M27-28</th>\n",
       "      <th>M29-31</th>\n",
       "      <th>M32-38</th>\n",
       "      <th>M39+</th>\n",
       "    </tr>\n",
       "    <tr>\n",
       "      <th>device_id</th>\n",
       "      <th></th>\n",
       "      <th></th>\n",
       "      <th></th>\n",
       "      <th></th>\n",
       "      <th></th>\n",
       "      <th></th>\n",
       "      <th></th>\n",
       "      <th></th>\n",
       "      <th></th>\n",
       "      <th></th>\n",
       "      <th></th>\n",
       "      <th></th>\n",
       "    </tr>\n",
       "  </thead>\n",
       "  <tbody>\n",
       "    <tr>\n",
       "      <th>1002079943728939269</th>\n",
       "      <td>0.001245</td>\n",
       "      <td>0.005721</td>\n",
       "      <td>0.012861</td>\n",
       "      <td>0.012037</td>\n",
       "      <td>0.024331</td>\n",
       "      <td>0.042985</td>\n",
       "      <td>0.011307</td>\n",
       "      <td>0.031796</td>\n",
       "      <td>0.072602</td>\n",
       "      <td>0.117752</td>\n",
       "      <td>0.259899</td>\n",
       "      <td>0.407463</td>\n",
       "    </tr>\n",
       "    <tr>\n",
       "      <th>-1547860181818787117</th>\n",
       "      <td>0.007344</td>\n",
       "      <td>0.012923</td>\n",
       "      <td>0.031140</td>\n",
       "      <td>0.056959</td>\n",
       "      <td>0.071482</td>\n",
       "      <td>0.149496</td>\n",
       "      <td>0.005435</td>\n",
       "      <td>0.093069</td>\n",
       "      <td>0.055558</td>\n",
       "      <td>0.074647</td>\n",
       "      <td>0.237918</td>\n",
       "      <td>0.204030</td>\n",
       "    </tr>\n",
       "    <tr>\n",
       "      <th>7374582448058474277</th>\n",
       "      <td>0.023752</td>\n",
       "      <td>0.037433</td>\n",
       "      <td>0.035714</td>\n",
       "      <td>0.160337</td>\n",
       "      <td>0.160441</td>\n",
       "      <td>0.076560</td>\n",
       "      <td>0.013176</td>\n",
       "      <td>0.026205</td>\n",
       "      <td>0.043130</td>\n",
       "      <td>0.102588</td>\n",
       "      <td>0.187902</td>\n",
       "      <td>0.132764</td>\n",
       "    </tr>\n",
       "    <tr>\n",
       "      <th>-6220210354783429585</th>\n",
       "      <td>0.003190</td>\n",
       "      <td>0.031913</td>\n",
       "      <td>0.008346</td>\n",
       "      <td>0.012010</td>\n",
       "      <td>0.051401</td>\n",
       "      <td>0.175574</td>\n",
       "      <td>0.047242</td>\n",
       "      <td>0.137787</td>\n",
       "      <td>0.072379</td>\n",
       "      <td>0.091120</td>\n",
       "      <td>0.179105</td>\n",
       "      <td>0.189932</td>\n",
       "    </tr>\n",
       "    <tr>\n",
       "      <th>-5893464122623104785</th>\n",
       "      <td>0.045832</td>\n",
       "      <td>0.066375</td>\n",
       "      <td>0.042068</td>\n",
       "      <td>0.062492</td>\n",
       "      <td>0.055551</td>\n",
       "      <td>0.042399</td>\n",
       "      <td>0.088834</td>\n",
       "      <td>0.167643</td>\n",
       "      <td>0.099756</td>\n",
       "      <td>0.102610</td>\n",
       "      <td>0.133955</td>\n",
       "      <td>0.092485</td>\n",
       "    </tr>\n",
       "    <tr>\n",
       "      <th>-7560708697029818408</th>\n",
       "      <td>0.045832</td>\n",
       "      <td>0.066375</td>\n",
       "      <td>0.042068</td>\n",
       "      <td>0.062492</td>\n",
       "      <td>0.055551</td>\n",
       "      <td>0.042399</td>\n",
       "      <td>0.088834</td>\n",
       "      <td>0.167643</td>\n",
       "      <td>0.099756</td>\n",
       "      <td>0.102610</td>\n",
       "      <td>0.133955</td>\n",
       "      <td>0.092485</td>\n",
       "    </tr>\n",
       "    <tr>\n",
       "      <th>289797889702373958</th>\n",
       "      <td>0.059790</td>\n",
       "      <td>0.060136</td>\n",
       "      <td>0.042424</td>\n",
       "      <td>0.066462</td>\n",
       "      <td>0.077386</td>\n",
       "      <td>0.058109</td>\n",
       "      <td>0.102419</td>\n",
       "      <td>0.123285</td>\n",
       "      <td>0.078022</td>\n",
       "      <td>0.100734</td>\n",
       "      <td>0.124937</td>\n",
       "      <td>0.106296</td>\n",
       "    </tr>\n",
       "    <tr>\n",
       "      <th>-402874006399730161</th>\n",
       "      <td>0.059790</td>\n",
       "      <td>0.060136</td>\n",
       "      <td>0.042424</td>\n",
       "      <td>0.066462</td>\n",
       "      <td>0.077386</td>\n",
       "      <td>0.058109</td>\n",
       "      <td>0.102419</td>\n",
       "      <td>0.123285</td>\n",
       "      <td>0.078022</td>\n",
       "      <td>0.100734</td>\n",
       "      <td>0.124937</td>\n",
       "      <td>0.106296</td>\n",
       "    </tr>\n",
       "    <tr>\n",
       "      <th>5751283639860028129</th>\n",
       "      <td>0.052106</td>\n",
       "      <td>0.065082</td>\n",
       "      <td>0.041886</td>\n",
       "      <td>0.069876</td>\n",
       "      <td>0.083793</td>\n",
       "      <td>0.068673</td>\n",
       "      <td>0.072148</td>\n",
       "      <td>0.128918</td>\n",
       "      <td>0.077280</td>\n",
       "      <td>0.097636</td>\n",
       "      <td>0.142700</td>\n",
       "      <td>0.099903</td>\n",
       "    </tr>\n",
       "    <tr>\n",
       "      <th>-848943298935149395</th>\n",
       "      <td>0.052106</td>\n",
       "      <td>0.065082</td>\n",
       "      <td>0.041886</td>\n",
       "      <td>0.069876</td>\n",
       "      <td>0.083793</td>\n",
       "      <td>0.068673</td>\n",
       "      <td>0.072148</td>\n",
       "      <td>0.128918</td>\n",
       "      <td>0.077280</td>\n",
       "      <td>0.097636</td>\n",
       "      <td>0.142700</td>\n",
       "      <td>0.099903</td>\n",
       "    </tr>\n",
       "  </tbody>\n",
       "</table>\n",
       "</div>"
      ],
      "text/plain": [
       "                          F23-    F24-26    F27-28    F29-32    F33-42  \\\n",
       "device_id                                                                \n",
       " 1002079943728939269  0.001245  0.005721  0.012861  0.012037  0.024331   \n",
       "-1547860181818787117  0.007344  0.012923  0.031140  0.056959  0.071482   \n",
       " 7374582448058474277  0.023752  0.037433  0.035714  0.160337  0.160441   \n",
       "-6220210354783429585  0.003190  0.031913  0.008346  0.012010  0.051401   \n",
       "-5893464122623104785  0.045832  0.066375  0.042068  0.062492  0.055551   \n",
       "-7560708697029818408  0.045832  0.066375  0.042068  0.062492  0.055551   \n",
       " 289797889702373958   0.059790  0.060136  0.042424  0.066462  0.077386   \n",
       "-402874006399730161   0.059790  0.060136  0.042424  0.066462  0.077386   \n",
       " 5751283639860028129  0.052106  0.065082  0.041886  0.069876  0.083793   \n",
       "-848943298935149395   0.052106  0.065082  0.041886  0.069876  0.083793   \n",
       "\n",
       "                          F43+      M22-    M23-26    M27-28    M29-31  \\\n",
       "device_id                                                                \n",
       " 1002079943728939269  0.042985  0.011307  0.031796  0.072602  0.117752   \n",
       "-1547860181818787117  0.149496  0.005435  0.093069  0.055558  0.074647   \n",
       " 7374582448058474277  0.076560  0.013176  0.026205  0.043130  0.102588   \n",
       "-6220210354783429585  0.175574  0.047242  0.137787  0.072379  0.091120   \n",
       "-5893464122623104785  0.042399  0.088834  0.167643  0.099756  0.102610   \n",
       "-7560708697029818408  0.042399  0.088834  0.167643  0.099756  0.102610   \n",
       " 289797889702373958   0.058109  0.102419  0.123285  0.078022  0.100734   \n",
       "-402874006399730161   0.058109  0.102419  0.123285  0.078022  0.100734   \n",
       " 5751283639860028129  0.068673  0.072148  0.128918  0.077280  0.097636   \n",
       "-848943298935149395   0.068673  0.072148  0.128918  0.077280  0.097636   \n",
       "\n",
       "                        M32-38      M39+  \n",
       "device_id                                 \n",
       " 1002079943728939269  0.259899  0.407463  \n",
       "-1547860181818787117  0.237918  0.204030  \n",
       " 7374582448058474277  0.187902  0.132764  \n",
       "-6220210354783429585  0.179105  0.189932  \n",
       "-5893464122623104785  0.133955  0.092485  \n",
       "-7560708697029818408  0.133955  0.092485  \n",
       " 289797889702373958   0.124937  0.106296  \n",
       "-402874006399730161   0.124937  0.106296  \n",
       " 5751283639860028129  0.142700  0.099903  \n",
       "-848943298935149395   0.142700  0.099903  "
      ]
     },
     "execution_count": 81,
     "metadata": {},
     "output_type": "execute_result"
    }
   ],
   "source": [
    "clf = LogisticRegression(C=0.023, multi_class='multinomial',solver='lbfgs')\n",
    "clf.fit(Xtrain, y)\n",
    "\n",
    "prediction = pd.DataFrame(clf.predict_proba(Xtest), index = gatest.index, columns=targetencoder.classes_)\n",
    "prediction.head(n=10)"
   ]
  },
  {
   "cell_type": "code",
   "execution_count": 82,
   "metadata": {
    "collapsed": false
   },
   "outputs": [],
   "source": [
    "prediction.to_csv('my_submission(logi).csv',index=True)"
   ]
  }
 ],
 "metadata": {
  "anaconda-cloud": {},
  "kernelspec": {
   "display_name": "Python [conda env:TalkingData]",
   "language": "python",
   "name": "conda-env-TalkingData-py"
  },
  "language_info": {
   "codemirror_mode": {
    "name": "ipython",
    "version": 3
   },
   "file_extension": ".py",
   "mimetype": "text/x-python",
   "name": "python",
   "nbconvert_exporter": "python",
   "pygments_lexer": "ipython3",
   "version": "3.5.2"
  }
 },
 "nbformat": 4,
 "nbformat_minor": 1
}
